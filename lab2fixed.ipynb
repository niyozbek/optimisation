{
 "cells": [
  {
   "cell_type": "code",
   "execution_count": 36,
   "metadata": {},
   "outputs": [
    {
     "data": {
      "text/plain": [
       "[<matplotlib.lines.Line2D at 0x7f72a0db8190>]"
      ]
     },
     "execution_count": 36,
     "metadata": {},
     "output_type": "execute_result"
    },
    {
     "data": {
      "image/png": "[encoded data removed]",
      "text/plain": [
       "<Figure size 640x480 with 1 Axes>"
      ]
     },
     "metadata": {},
     "output_type": "display_data"
    }
   ],
   "source": [
    "import array\n",
    "import random\n",
    "import numpy\n",
    "import itertools\n",
    "\n",
    "m = 0.515 \n",
    "c = 2.455 \n",
    "\n",
    "x = numpy.array([1,2,3,4,5])\n",
    "y = numpy.array([2,4,5,4,5])\n",
    "\n",
    "def compute_sse(squared_error):\n",
    "    return numpy.sum(squared_error)\n",
    "\n",
    "def compute_squared_error(m, c, x, y):\n",
    "    model_prediction = m * x + c\n",
    "    error = model_prediction - y\n",
    "    return error ** 2\n",
    "    \n",
    "squared_error = compute_squared_error(m, c, x, y)\n",
    "#print(squared_error)\n",
    "\n",
    "import matplotlib.pyplot as plt # im p o r t l i b r a r y\n",
    "plt.ion () # t h i s e n a b l e s i n t e r a c t i v e p l o t t i n g\n",
    "plt.plot(x, y, '.')\n",
    "plt.plot(x, m * x + c)\n",
    "#plt.show()"
   ]
  },
  {
   "cell_type": "code",
   "execution_count": 74,
   "metadata": {},
   "outputs": [
    {
     "name": "stdout",
     "output_type": "stream",
     "text": [
      "(array([0.59296482, 2.22222222]), 2.4005011720305114)\n"
     ]
    }
   ],
   "source": [
    "#2.3 - 1 Grid Search\n",
    "#m = 0.515 #0-2 steps=0.01\n",
    "#c = 2.455 #0-5 steps=0.01\n",
    "\n",
    "#    m ,  c\n",
    "lower_bounds = [0, 0]\n",
    "upper_bounds = [2, 5]\n",
    "numbers_of_points = [200, 500]\n",
    "\n",
    "def compute_points_k(lower_bound, upper_bound, number_of_points):\n",
    "    step = (upper_bound - lower_bound) / (number_of_points - 1) \n",
    "    points = numpy.array([])\n",
    "    points = numpy.append(points, lower_bound)\n",
    "\n",
    "    current_point = lower_bound + step\n",
    "    while current_point < upper_bound:\n",
    "        points = numpy.append(points, current_point)\n",
    "        current_point += step\n",
    "    points = numpy.append(points, upper_bound)\n",
    "    \n",
    "    return points\n",
    "\n",
    "def grid_search(lower_bounds, upper_bounds, numbers_of_points):\n",
    "    #1 - create grid\n",
    "    m = compute_points_k(lower_bounds[0], upper_bounds[0], numbers_of_points[0])\n",
    "    c = compute_points_k(lower_bounds[1], upper_bounds[1], numbers_of_points[1])\n",
    "\n",
    "    #2 - assess each point\n",
    "    # m * c points = 200 * 500 = 100 000\n",
    "    min_m = float('inf')\n",
    "    min_c = float('inf')\n",
    "    min_sse = float('inf')\n",
    "    \n",
    "    #print(len(m))\n",
    "    #print(len(c))\n",
    "    cartesian = itertools.product(m, c)\n",
    "    for current_m, current_c in cartesian:\n",
    "        sse = compute_squared_error(current_m, current_c, x, y)\n",
    "        current_sse = compute_sse(sse)\n",
    "        if current_sse < min_sse:\n",
    "            min_sse = current_sse\n",
    "            min_m = current_m\n",
    "            min_c = current_c\n",
    "    # print('m =', min_m, ' c =', min_c, ' sse =', min_sse)\n",
    "    # optimal value,                     optimal solution\n",
    "    return numpy.array([min_m, min_c]), min_sse\n",
    "\n",
    "grid_search_result = grid_search(lower_bounds, upper_bounds, numbers_of_points)\n",
    "print(grid_search_result)"
   ]
  },
  {
   "cell_type": "code",
   "execution_count": 75,
   "metadata": {},
   "outputs": [
    {
     "name": "stdout",
     "output_type": "stream",
     "text": [
      "(array([[0.61167045],\n",
      "       [2.15334813]]), 2.402039503014721)\n"
     ]
    }
   ],
   "source": [
    "#2.3 - 1 Random search - more precision but same points, while m * c - number of cells stays the same \n",
    "#m = 0.515 #0-2 steps=0.005\n",
    "#c = 2.455 #0-5 steps=0.005\n",
    "def random_search(lower_bounds, upper_bounds, numbers_of_points):\n",
    "    #1 - create grid\n",
    "    m = numpy.random.uniform(low = lower_bounds[0], high = upper_bounds[0], size = (numbers_of_points[0], 1))\n",
    "    c = numpy.random.uniform(low = lower_bounds[1], high = upper_bounds[1], size = (numbers_of_points[1], 1))\n",
    "    \n",
    "    #2 - assess each point\n",
    "    # m * c points = 100 000\n",
    "    min_m = float('inf')\n",
    "    min_c = float('inf')\n",
    "    min_sse = float('inf')\n",
    "    \n",
    "    cartesian = itertools.product(m, c)\n",
    "    for current_m, current_c in cartesian:\n",
    "        sse = compute_squared_error(current_m, current_c, x, y)\n",
    "        current_sse = compute_sse(sse)\n",
    "        if current_sse < min_sse:\n",
    "            min_sse = current_sse\n",
    "            min_m = current_m\n",
    "            min_c = current_c\n",
    "                \n",
    "    # print results\n",
    "    # print('m =', min_m, ' c =', min_c, ' sse =', min_sse)\n",
    "    return numpy.array([min_m, min_c]), min_sse\n",
    "\n",
    "random_search_result = random_search(lower_bounds, upper_bounds, numbers_of_points)\n",
    "print(random_search_result)"
   ]
  },
  {
   "cell_type": "code",
   "execution_count": 77,
   "metadata": {},
   "outputs": [
    {
     "data": {
      "text/plain": [
       "{'whiskers': [<matplotlib.lines.Line2D at 0x7f72a0ac8a90>,\n",
       "  <matplotlib.lines.Line2D at 0x7f72a0ac8d30>,\n",
       "  <matplotlib.lines.Line2D at 0x7f72a0ad5d30>,\n",
       "  <matplotlib.lines.Line2D at 0x7f72a0ad5fd0>],\n",
       " 'caps': [<matplotlib.lines.Line2D at 0x7f72a0ac8fd0>,\n",
       "  <matplotlib.lines.Line2D at 0x7f72a0ad52b0>,\n",
       "  <matplotlib.lines.Line2D at 0x7f72a0ae62b0>,\n",
       "  <matplotlib.lines.Line2D at 0x7f72a0ae6550>],\n",
       " 'boxes': [<matplotlib.lines.Line2D at 0x7f72a0ac87c0>,\n",
       "  <matplotlib.lines.Line2D at 0x7f72a0ad5a90>],\n",
       " 'medians': [<matplotlib.lines.Line2D at 0x7f72a0ad5550>,\n",
       "  <matplotlib.lines.Line2D at 0x7f72a0ae67f0>],\n",
       " 'fliers': [<matplotlib.lines.Line2D at 0x7f72a0ad57f0>,\n",
       "  <matplotlib.lines.Line2D at 0x7f72a0ae6a90>],\n",
       " 'means': []}"
      ]
     },
     "execution_count": 77,
     "metadata": {},
     "output_type": "execute_result"
    },
    {
     "data": {
      "image/png": "[encoded data removed]",
      "text/plain": [
       "<Figure size 640x480 with 1 Axes>"
      ]
     },
     "metadata": {},
     "output_type": "display_data"
    }
   ],
   "source": [
    "import matplotlib.pyplot as pyplot\n",
    "\n",
    "tries = 30\n",
    "grid_search_data = numpy.array([])\n",
    "for i in range(tries):\n",
    "    mc, sse = grid_search(lower_bounds, upper_bounds, numbers_of_points)\n",
    "    grid_search_data = numpy.append(grid_search_data, sse)\n",
    "\n",
    "random_search_data = numpy.array([])\n",
    "for i in range(tries):\n",
    "    mc, sse = random_search(lower_bounds, upper_bounds, numbers_of_points)\n",
    "    random_search_data = numpy.append(random_search_data, sse)\n",
    "\n",
    "pyplot.boxplot([grid_search_data, random_search_data])\n"
   ]
  }
 ],
 "metadata": {
  "kernelspec": {
   "display_name": "Python 3",
   "language": "python",
   "name": "python3"
  },
  "language_info": {
   "codemirror_mode": {
    "name": "ipython",
    "version": 3
   },
   "file_extension": ".py",
   "mimetype": "text/x-python",
   "name": "python",
   "nbconvert_exporter": "python",
   "pygments_lexer": "ipython3",
   "version": "3.7.9"
  }
 },
 "nbformat": 4,
 "nbformat_minor": 5
}
