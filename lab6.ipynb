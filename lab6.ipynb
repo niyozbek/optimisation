{
 "cells": [
  {
   "cell_type": "code",
   "execution_count": 307,
   "id": "64a2fd31",
   "metadata": {},
   "outputs": [],
   "source": [
    "import numpy as np\n",
    "import matplotlib.pyplot as plt"
   ]
  },
  {
   "cell_type": "code",
   "execution_count": 194,
   "id": "9c77457f",
   "metadata": {},
   "outputs": [],
   "source": [
    "w = [600, 180, 250, 500, 400, 250, 380, 400] # grams\n",
    "v = [1.35, 2.25, 2.5, 4.5, 1.75, 2.5, 2, 3.5] # pound sterling\n",
    "x = [0, 1, 1, 1, 0, 0, 0, 0]"
   ]
  },
  {
   "cell_type": "markdown",
   "id": "73b7a612",
   "metadata": {},
   "source": [
    "1. Write a function in Python that takes a decision array x, a weight array w, a value array\n",
    "v, a limit on weight W , a penalty multiplier r and an exponent β, and returns the result of\n",
    "φstatic(x, f (·), g(·)) in equation (4)."
   ]
  },
  {
   "cell_type": "code",
   "execution_count": 195,
   "id": "7c0f986c",
   "metadata": {},
   "outputs": [
    {
     "name": "stdout",
     "output_type": "stream",
     "text": [
      "9.25\n",
      "930\n",
      "9.25\n"
     ]
    }
   ],
   "source": [
    "def func(v, x):\n",
    "    result = 0\n",
    "    for i in range(len(x)):\n",
    "        vi = v[i]; xi = x[i]  \n",
    "        result = result + vi * xi\n",
    "    return result\n",
    "print(func(v, x))\n",
    "\n",
    "def g(w, x):\n",
    "    result = 0\n",
    "    for i in range(len(x)):\n",
    "        wi = w[i]; xi = x[i]\n",
    "        result = result + wi * xi\n",
    "    return result\n",
    "print(g(w, x))\n",
    "\n",
    "def static_func(v, w, x, limit_on_weight, penalty_multiplier, exponent_b):\n",
    "    return func(v, x) - penalty_multiplier * max(0, g(w, x) - limit_on_weight) ** exponent_b\n",
    "print(static_func(v, w, x, 1200, 2, 1))"
   ]
  },
  {
   "cell_type": "markdown",
   "id": "9bca0708",
   "metadata": {},
   "source": [
    "2. Implement a function for generating a random population (as a 2-dimensional binary array).\n",
    "This function should take the number of rows and number of columns as parameters."
   ]
  },
  {
   "cell_type": "code",
   "execution_count": 174,
   "id": "bc9a20a8",
   "metadata": {},
   "outputs": [
    {
     "name": "stdout",
     "output_type": "stream",
     "text": [
      "[[0 1 1 1 0 1 0 0]\n",
      " [1 0 1 1 0 1 1 0]\n",
      " [1 1 1 0 0 0 1 1]\n",
      " [1 0 1 0 0 1 1 1]\n",
      " [1 1 0 1 1 1 1 1]\n",
      " [1 0 0 1 1 0 0 1]\n",
      " [1 1 1 0 1 1 1 1]\n",
      " [0 1 1 0 1 0 0 1]\n",
      " [1 1 0 0 1 0 1 0]\n",
      " [0 0 1 1 0 0 0 0]\n",
      " [0 0 1 0 0 0 1 0]\n",
      " [0 1 1 1 1 1 1 0]\n",
      " [0 0 1 0 0 1 0 1]\n",
      " [0 1 0 0 0 1 1 0]\n",
      " [0 1 0 1 0 0 1 1]\n",
      " [0 1 1 0 0 1 0 0]\n",
      " [1 1 1 1 0 0 0 1]\n",
      " [0 1 0 0 1 1 0 1]\n",
      " [0 1 0 1 1 1 0 1]\n",
      " [0 0 0 1 1 0 0 0]]\n"
     ]
    }
   ],
   "source": [
    "np.random.seed(12345)\n",
    "def generate_random_population(rows, columns):\n",
    "    return np.random.randint(0, 2, size = (rows, columns))\n",
    "population = generate_random_population(20, len(x))\n",
    "print(population)"
   ]
  },
  {
   "cell_type": "markdown",
   "id": "64c1eb29",
   "metadata": {},
   "source": [
    "generate f_vector"
   ]
  },
  {
   "cell_type": "code",
   "execution_count": 175,
   "id": "c4aa90eb",
   "metadata": {
    "scrolled": true
   },
   "outputs": [
    {
     "name": "stdout",
     "output_type": "stream",
     "text": [
      "[11.75, -1547.15, -1208.4, -1348.15, -3002.15, -1388.9, -2504.15, -50.0, -712.65, 7.0, 4.5, -1504.5, 8.5, 6.75, -507.75, 7.25, -1445.9, -50.0, -1045.5, 6.25]\n"
     ]
    }
   ],
   "source": [
    "f_vector = []\n",
    "for x_vector in population:\n",
    "    f_vector.append(static_func(v, w, x_vector, 1200, 2, 1))\n",
    "print(f_vector)    \n"
   ]
  },
  {
   "cell_type": "markdown",
   "id": "4b01fd22",
   "metadata": {},
   "source": [
    "3. Implement the truncation selection function with k = 4."
   ]
  },
  {
   "cell_type": "code",
   "execution_count": 176,
   "id": "5c468a5a",
   "metadata": {},
   "outputs": [
    {
     "name": "stdout",
     "output_type": "stream",
     "text": [
      "[ 6 11]\n"
     ]
    }
   ],
   "source": [
    "def truncation(f_vector, k, to_choose = 4):\n",
    "    candidate_inds = np.argsort(f_vector)[:k]\n",
    "    picked_inds = np.random.choice(candidate_inds, \n",
    "                                  size = to_choose,\n",
    "                                  replace = False)\n",
    "    return picked_inds\n",
    "print(truncation(f_vector, 4, 2))"
   ]
  },
  {
   "cell_type": "markdown",
   "id": "81663c40",
   "metadata": {},
   "source": [
    "4. Implement the one-point crossover function."
   ]
  },
  {
   "cell_type": "code",
   "execution_count": 177,
   "id": "8cd39b0f",
   "metadata": {},
   "outputs": [
    {
     "name": "stdout",
     "output_type": "stream",
     "text": [
      "[0 0 1 1 1 0 0] [0 0 1 0 1 1 0]\n"
     ]
    }
   ],
   "source": [
    "def one_point_cx(a, b):\n",
    "    inds = np.arange(a.shape[0])\n",
    "    point = np.random.choice(inds)\n",
    "#     print(point)\n",
    "    c = np.concatenate([a[:point], b[point:]])\n",
    "    d = np.concatenate([b[:point], a[point:]])\n",
    "    return c, d\n",
    "a = np.array([0, 0, 1, 1, 1, 1, 0])\n",
    "b = np.array([0, 0, 1, 0, 1, 0, 0])\n",
    "c, d = one_point_cx(a, b)\n",
    "print(c, d)"
   ]
  },
  {
   "cell_type": "markdown",
   "id": "41775214",
   "metadata": {},
   "source": [
    "5. Implement the bitwise mutation."
   ]
  },
  {
   "cell_type": "code",
   "execution_count": 178,
   "id": "60660a9b",
   "metadata": {},
   "outputs": [
    {
     "name": "stdout",
     "output_type": "stream",
     "text": [
      "[0 1 1 1 1 0 0 0]\n"
     ]
    }
   ],
   "source": [
    "def flip_bit_mutation(c, prob = None):\n",
    "    if prob is None:\n",
    "        prob = 1 / len(c)\n",
    "    bits = []\n",
    "    for i in range(c.shape[0]):\n",
    "        r = np.random.random()\n",
    "        if r < prob:\n",
    "            bits.append(int(not(c[i])))\n",
    "        else:\n",
    "            bits.append(c[i])\n",
    "    return np.array(bits)\n",
    "x_premium = flip_bit_mutation(np.array(x))\n",
    "print(x_premium)"
   ]
  },
  {
   "cell_type": "markdown",
   "id": "5f0eb5dc",
   "metadata": {},
   "source": [
    "6. Implement the Genetic Algorithm discussed in the lecture, and run it using the following\n",
    "hyper-parameters:"
   ]
  },
  {
   "cell_type": "code",
   "execution_count": 325,
   "id": "00428aea",
   "metadata": {},
   "outputs": [
    {
     "data": {
      "image/png": "[encoded data removed]",
      "text/plain": [
       "<Figure size 640x480 with 1 Axes>"
      ]
     },
     "metadata": {},
     "output_type": "display_data"
    },
    {
     "name": "stdout",
     "output_type": "stream",
     "text": [
      "value: 9.0\n",
      "ind: 16269\n",
      "best pop: [0 0 1 1 0 0 1 0]\n",
      "grams: 1130\n"
     ]
    }
   ],
   "source": [
    "m = 10 # pop size\n",
    "K = 10000 # num of generations\n",
    "p_c = 0.8 # crossover probability\n",
    "p_m = 0.2 # mutation probability\n",
    "\n",
    "def gen():\n",
    "    population = generate_random_population(m, len(x))\n",
    "    \n",
    "    f_vector = []\n",
    "    for x_vector in population:\n",
    "        f_vector.append(static_func(v, w, x_vector, 1200, 2, 1))\n",
    "    min_f_vs_gens = [max(0, max(f_vector))]\n",
    "    \n",
    "    for k in range(1, K + 1):\n",
    "        a_i, b_i = truncation(f_vector, 4, 2)\n",
    "        a, b = population[a_i], population[b_i] \n",
    "        r = np.random.random()\n",
    "        \n",
    "        if r < p_c:\n",
    "            c1, c2 = one_point_cx(a, b)\n",
    "        else:\n",
    "            c1, c2 = a, b\n",
    "        if r < p_m:\n",
    "            c1_prem, c2_prem = flip_bit_mutation(c1), flip_bit_mutation(c2)\n",
    "        else:\n",
    "            c1_prem, c2_prem = c1, c2\n",
    "        population = np.vstack([population, c1_prem, c2_prem])\n",
    "        f_vector.append(static_func(v, w, c1_prem, 1200, 2, 1))\n",
    "        f_vector.append(static_func(v, w, c2_prem, 1200, 2, 1))\n",
    "        min_f_vs_gens.append(max(0, max(f_vector)))\n",
    "#     print(min_f_vs_gens)\n",
    "    x_cord = np.linspace(0, len(min_f_vs_gens), num = len(min_f_vs_gens), dtype = int)\n",
    "    \n",
    "#     print(min_f_vs_gens)\n",
    "    plt.plot(x_cord, min_f_vs_gens)\n",
    "    plt.show()\n",
    "    return population\n",
    "\n",
    "genetic_algorithm = gen()\n",
    "\n",
    "f_vector = []\n",
    "for x_vector in genetic_algorithm:\n",
    "    f_vector.append(static_func(v, w, x_vector, 1200, 2, 1))\n",
    "\n",
    "max_ind = np.argmax(f_vector)\n",
    "max_pop = genetic_algorithm[max_ind]\n",
    "print('value:', f_vector[max_ind])\n",
    "print('ind:', max_ind)\n",
    "print('best pop:', max_pop)\n",
    "print('grams:', g(w, max_pop))"
   ]
  }
 ],
 "metadata": {
  "kernelspec": {
   "display_name": "Python 3 (ipykernel)",
   "language": "python",
   "name": "python3"
  },
  "language_info": {
   "codemirror_mode": {
    "name": "ipython",
    "version": 3
   },
   "file_extension": ".py",
   "mimetype": "text/x-python",
   "name": "python",
   "nbconvert_exporter": "python",
   "pygments_lexer": "ipython3",
   "version": "3.9.2"
  }
 },
 "nbformat": 4,
 "nbformat_minor": 5
}
