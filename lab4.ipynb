{
 "cells": [
  {
   "cell_type": "markdown",
   "id": "1deb7452",
   "metadata": {},
   "source": [
    "You are given a function f(x) = 5x1^2+3x2−5x1x2+5 where x = (x1, x2) ∈ R^2 is a two-dimensional real vector. Identify the critical points, and characterise them."
   ]
  },
  {
   "cell_type": "code",
   "execution_count": 1,
   "id": "7bfe0969",
   "metadata": {},
   "outputs": [],
   "source": [
    "def f(x1, x2):\n",
    "    return 5 * x1 ** 2 + 3 * x2 - 5 * x1 * x2 + 5\n",
    "\n",
    "# FONC\n",
    "# derivative_x1\n",
    "# 0 = 10 * x1 - 5 * x2\n",
    "# derivative_x2\n",
    "# 0 = 3 - 5 * x1\n",
    "# x1 = 0.6\n",
    "# x2 = 10 * 0.6 / 5 = 1.2\n",
    "# SONC\n",
    "# for x1\n",
    "# fx = 10 => concave\n",
    "# for x2\n",
    "# fx = -5 => convex\n",
    "\n"
   ]
  }
 ],
 "metadata": {
  "kernelspec": {
   "display_name": "Python 3 (ipykernel)",
   "language": "python",
   "name": "python3"
  },
  "language_info": {
   "codemirror_mode": {
    "name": "ipython",
    "version": 3
   },
   "file_extension": ".py",
   "mimetype": "text/x-python",
   "name": "python",
   "nbconvert_exporter": "python",
   "pygments_lexer": "ipython3",
   "version": "3.10.8"
  }
 },
 "nbformat": 4,
 "nbformat_minor": 5
}
